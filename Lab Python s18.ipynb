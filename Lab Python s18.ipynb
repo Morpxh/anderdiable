{
 "cells": [
  {
   "cell_type": "code",
   "execution_count": null,
   "id": "b3bc58fe-2d00-4c00-8d56-28440a18a30f",
   "metadata": {},
   "outputs": [],
   "source": [
    "#Python Lab - Analítica Descriptiva - Lunes - 6- 9 pm \n",
    "#Valor     :   15 Puntos\n",
    "#Modalidad : Grupal\n",
    "#Las instrucciones estan provistas por celda, recuerda que puedes insertar una o varias celdas despues de cada instrucción para responder \n",
    "# Asi el cuaderno quedará bien organizado con cada solucion debajo de su respectiva instrucción.\n"
   ]
  },
  {
   "cell_type": "code",
   "execution_count": 3,
   "id": "af4b577c-4aba-4145-b9d7-669042eea757",
   "metadata": {
    "scrolled": true
   },
   "outputs": [
    {
     "data": {
      "text/plain": [
       "'El conjunto de datos \"Online Shoppers Purchasing Intention\" es una colección de datos relacionados con los patrones de compra y el comportamiento del consumidor en el contexto de las compras en línea. Fue creado mediante encuestas a compradores en línea y la recopilación de datos a partir de sus respuestas.\\n\\nAlgunas de las variables en este conjunto de datos incluyen:\\n\\n- Administrativo: El número de páginas del sitio web visitadas por el usuario con fines administrativos.\\n- Duración_Administrativo: El tiempo total que el usuario pasó en páginas administrativas del sitio web.\\n- Informativo: El número de páginas del sitio web visitadas por el usuario con fines informativos.\\n- Duración_Informativo: El tiempo total que el usuario pasó en páginas informativas del sitio web.\\n- Relacionado con Productos: El número de páginas del sitio web visitadas por el usuario con fines relacionados con productos.\\n- Duración_Relacionado con Productos: El tiempo total que el usuario pasó en páginas relacionadas con productos del sitio web.\\n- Tasas de Rebote: El porcentaje de visitantes que entran al sitio web y lo abandonan sin ver otras páginas.\\n- Tasas de Salida: El porcentaje de visitantes que abandonan el sitio web desde una página específica después de visitarla.\\n- Valores de Página: El valor promedio de las páginas vistas por el usuario antes de la transacción.\\n- Día Especial: La proximidad de la visita a un día especial (por ejemplo, Día de la Madre, Día de San Valentín, etc.).\\n\\nEste conjunto de datos en Excel se utiliza en investigaciones y análisis relacionados con el comercio electrónico y el marketing en línea. Puede ayudar a las empresas a comprender los factores que impulsan el comportamiento del cliente y también es útil para principiantes en análisis de datos.'"
      ]
     },
     "execution_count": 3,
     "metadata": {},
     "output_type": "execute_result"
    }
   ],
   "source": [
    "#Descripcion del conjunto de datos\n",
    "'''El conjunto de datos \"Online Shoppers Purchasing Intention\" es una colección de datos relacionados con los patrones de compra y el comportamiento del consumidor en el contexto de las compras en línea. Fue creado mediante encuestas a compradores en línea y la recopilación de datos a partir de sus respuestas.\n",
    "\n",
    "Algunas de las variables en este conjunto de datos incluyen:\n",
    "\n",
    "- Administrativo: El número de páginas del sitio web visitadas por el usuario con fines administrativos.\n",
    "- Duración_Administrativo: El tiempo total que el usuario pasó en páginas administrativas del sitio web.\n",
    "- Informativo: El número de páginas del sitio web visitadas por el usuario con fines informativos.\n",
    "- Duración_Informativo: El tiempo total que el usuario pasó en páginas informativas del sitio web.\n",
    "- Relacionado con Productos: El número de páginas del sitio web visitadas por el usuario con fines relacionados con productos.\n",
    "- Duración_Relacionado con Productos: El tiempo total que el usuario pasó en páginas relacionadas con productos del sitio web.\n",
    "- Tasas de Rebote: El porcentaje de visitantes que entran al sitio web y lo abandonan sin ver otras páginas.\n",
    "- Tasas de Salida: El porcentaje de visitantes que abandonan el sitio web desde una página específica después de visitarla.\n",
    "- Valores de Página: El valor promedio de las páginas vistas por el usuario antes de la transacción.\n",
    "- Día Especial: La proximidad de la visita a un día especial (por ejemplo, Día de la Madre, Día de San Valentín, etc.).\n",
    "\n",
    "Este conjunto de datos en Excel se utiliza en investigaciones y análisis relacionados con el comercio electrónico y el marketing en línea. Puede ayudar a las empresas a comprender los factores que impulsan el comportamiento del cliente y también es útil para principiantes en análisis de datos.'''"
   ]
  },
  {
   "cell_type": "code",
   "execution_count": null,
   "id": "30fc8954-51ef-4948-b20e-6f5128ae6332",
   "metadata": {},
   "outputs": [],
   "source": [
    "# 1 - Descarga el archivo en formato .csv desde la práctica en el portal de la asignatura."
   ]
  },
  {
   "cell_type": "code",
   "execution_count": null,
   "id": "9c3b5776-37b1-4536-bba2-7f55a4bedddd",
   "metadata": {},
   "outputs": [],
   "source": [
    "# 2 - Inserta una celda de presentación donde se listaran todos los integrantes del grupo y sus matriculas."
   ]
  },
  {
   "cell_type": "code",
   "execution_count": 1,
   "id": "4fc4a118-35e4-4f32-9f37-2a8268ed0777",
   "metadata": {},
   "outputs": [],
   "source": [
    "# 3 - crea un dataframe utilizando el archivo de datos datos.csv descargado. Recuerda que debes usar \"\\\\\" para la ruta y que si el archivo y el cuaderno \n",
    "# se encuentran en rutas diferentes debes usar la ruta absoluta."
   ]
  },
  {
   "cell_type": "code",
   "execution_count": null,
   "id": "e0a079da-1992-480a-bd9e-38432a4fed19",
   "metadata": {},
   "outputs": [],
   "source": [
    "# 4- Una vez creado el datafram, visualiza algunas filas del mismo para asegurarte que los datos se cargaron correctamente."
   ]
  },
  {
   "cell_type": "code",
   "execution_count": null,
   "id": "922f7f36-a0a2-4007-a323-a506b47c9af1",
   "metadata": {},
   "outputs": [],
   "source": [
    "# 5 - Muestra la información del conjunto de datos y explora, cantidad de registros, dipos de variables, cantidad de variables etc."
   ]
  },
  {
   "cell_type": "code",
   "execution_count": null,
   "id": "b3750d49-2ff4-45a3-a18b-22ef8b7a4b42",
   "metadata": {},
   "outputs": [],
   "source": [
    "# 6 - Muestra las estadisticas descriptivas para cada una de las duraciones (Columnas _Duration) y analiza cada una de ellas. "
   ]
  },
  {
   "cell_type": "code",
   "execution_count": null,
   "id": "c5d656be-bae8-4cf9-aecd-cbe5083a3ddb",
   "metadata": {},
   "outputs": [],
   "source": [
    "# 7 - Representa en un grafico de barras e interpreta los promedios de las columnas (_Duration) "
   ]
  },
  {
   "cell_type": "code",
   "execution_count": null,
   "id": "1eaa89ab-9a60-4905-a036-4555b43270de",
   "metadata": {},
   "outputs": [],
   "source": [
    "#8 - Presente en la grafica de su preferencia los 5 productos mas visitados"
   ]
  },
  {
   "cell_type": "code",
   "execution_count": null,
   "id": "f87b2eda-410a-4b6f-a897-cdefb4c57c93",
   "metadata": {},
   "outputs": [],
   "source": [
    "# 9 - Grafique e interprete la tendencia de duracion en \"ProductRelated_Duration\" cuando se acerca un dia especial en comparacion a cuando no se acerca un dia especial"
   ]
  },
  {
   "cell_type": "code",
   "execution_count": null,
   "id": "4cb9d7b8-e6b4-465a-abb6-fb68a4dd788d",
   "metadata": {},
   "outputs": [],
   "source": [
    "# 10 - Basado en la tipo de visitante a los sitios, podemos decir que los visitantes son prospensos a retornor? Explique en que basa su conclusion"
   ]
  },
  {
   "cell_type": "code",
   "execution_count": null,
   "id": "72d7c043-f8cb-40a2-9ccd-cb28c982b5c0",
   "metadata": {},
   "outputs": [],
   "source": [
    "# 11- Cual es el mes mas activo del año segun los datos? Grafique las proporciones"
   ]
  },
  {
   "cell_type": "code",
   "execution_count": null,
   "id": "f31703cd-5302-4028-8657-bdfabb0497c9",
   "metadata": {},
   "outputs": [],
   "source": [
    "# 12 - Realize la correlacion de pearson entre los variabls numericas que le resulten apropiadas y analice sus hallazgos"
   ]
  },
  {
   "cell_type": "code",
   "execution_count": null,
   "id": "75cb8a14-a28d-4e49-80ca-691acd2094cd",
   "metadata": {},
   "outputs": [],
   "source": [
    "#Seccion 18\n",
    "2023-0949 (Felix Alberto Rosa Caba)\n",
    "2023-0040 (Joeric David Mena Peña)\n",
    "2023-0104 (Enmanuel Geronimo Cabrera)"
   ]
  },
  {
   "cell_type": "code",
   "execution_count": 3,
   "id": "cc543a90-dcb1-40b8-ab2b-8ecbe0cf89ae",
   "metadata": {},
   "outputs": [],
   "source": [
    "import pandas as pd"
   ]
  },
  {
   "cell_type": "code",
   "execution_count": 4,
   "id": "9c67ca55-5379-46f1-82b2-c367dbf0afc5",
   "metadata": {},
   "outputs": [],
   "source": [
    "import numpy as np"
   ]
  },
  {
   "cell_type": "code",
   "execution_count": 5,
   "id": "4694e187-b0d7-4c1d-a4c3-5bb0095ff504",
   "metadata": {},
   "outputs": [],
   "source": [
    "import math as mt"
   ]
  },
  {
   "cell_type": "code",
   "execution_count": 6,
   "id": "6660cfb4-87e2-4d8c-ba8b-db4d7be0bb08",
   "metadata": {},
   "outputs": [],
   "source": [
    "import matplotlib.pyplot as plt"
   ]
  },
  {
   "cell_type": "code",
   "execution_count": 7,
   "id": "0bf33106-656e-4bd4-8f8b-4b06f4c07231",
   "metadata": {},
   "outputs": [],
   "source": [
    "from jupyterthemes import jtplot"
   ]
  },
  {
   "cell_type": "code",
   "execution_count": 8,
   "id": "b0bf85bd-5fd6-49d5-92dc-9d4caa673ec6",
   "metadata": {},
   "outputs": [],
   "source": [
    "df = pd.read_excel(\"C:\\\\Users\\\\felix\\\\Downloads\\\\data.xlsx\", engine=\"openpyxl\")"
   ]
  },
  {
   "cell_type": "code",
   "execution_count": 9,
   "id": "2f938483-6d4d-4ec0-8502-db58358174d2",
   "metadata": {},
   "outputs": [
    {
     "data": {
      "text/html": [
       "<div>\n",
       "<style scoped>\n",
       "    .dataframe tbody tr th:only-of-type {\n",
       "        vertical-align: middle;\n",
       "    }\n",
       "\n",
       "    .dataframe tbody tr th {\n",
       "        vertical-align: top;\n",
       "    }\n",
       "\n",
       "    .dataframe thead th {\n",
       "        text-align: right;\n",
       "    }\n",
       "</style>\n",
       "<table border=\"1\" class=\"dataframe\">\n",
       "  <thead>\n",
       "    <tr style=\"text-align: right;\">\n",
       "      <th></th>\n",
       "      <th>Administrative</th>\n",
       "      <th>Administrative_Duration</th>\n",
       "      <th>Informational</th>\n",
       "      <th>Informational_Duration</th>\n",
       "      <th>ProductRelated</th>\n",
       "      <th>ProductRelated_Duration</th>\n",
       "      <th>BounceRates</th>\n",
       "      <th>ExitRates</th>\n",
       "      <th>PageValues</th>\n",
       "      <th>SpecialDay</th>\n",
       "      <th>Month</th>\n",
       "      <th>OperatingSystems</th>\n",
       "      <th>Browser</th>\n",
       "      <th>Region</th>\n",
       "      <th>TrafficType</th>\n",
       "      <th>VisitorType</th>\n",
       "      <th>Weekend</th>\n",
       "      <th>Revenue</th>\n",
       "    </tr>\n",
       "  </thead>\n",
       "  <tbody>\n",
       "    <tr>\n",
       "      <th>0</th>\n",
       "      <td>0</td>\n",
       "      <td>0.0</td>\n",
       "      <td>0</td>\n",
       "      <td>0.0</td>\n",
       "      <td>1</td>\n",
       "      <td>0.000000</td>\n",
       "      <td>0.20</td>\n",
       "      <td>0.20</td>\n",
       "      <td>0.0</td>\n",
       "      <td>0.0</td>\n",
       "      <td>Feb</td>\n",
       "      <td>1</td>\n",
       "      <td>1</td>\n",
       "      <td>1</td>\n",
       "      <td>1</td>\n",
       "      <td>Returning_Visitor</td>\n",
       "      <td>False</td>\n",
       "      <td>False</td>\n",
       "    </tr>\n",
       "    <tr>\n",
       "      <th>1</th>\n",
       "      <td>0</td>\n",
       "      <td>0.0</td>\n",
       "      <td>0</td>\n",
       "      <td>0.0</td>\n",
       "      <td>2</td>\n",
       "      <td>64.000000</td>\n",
       "      <td>0.00</td>\n",
       "      <td>0.10</td>\n",
       "      <td>0.0</td>\n",
       "      <td>0.0</td>\n",
       "      <td>Feb</td>\n",
       "      <td>2</td>\n",
       "      <td>2</td>\n",
       "      <td>1</td>\n",
       "      <td>2</td>\n",
       "      <td>Returning_Visitor</td>\n",
       "      <td>False</td>\n",
       "      <td>False</td>\n",
       "    </tr>\n",
       "    <tr>\n",
       "      <th>2</th>\n",
       "      <td>0</td>\n",
       "      <td>0.0</td>\n",
       "      <td>0</td>\n",
       "      <td>0.0</td>\n",
       "      <td>1</td>\n",
       "      <td>0.000000</td>\n",
       "      <td>0.20</td>\n",
       "      <td>0.20</td>\n",
       "      <td>0.0</td>\n",
       "      <td>0.0</td>\n",
       "      <td>Feb</td>\n",
       "      <td>4</td>\n",
       "      <td>1</td>\n",
       "      <td>9</td>\n",
       "      <td>3</td>\n",
       "      <td>Returning_Visitor</td>\n",
       "      <td>False</td>\n",
       "      <td>False</td>\n",
       "    </tr>\n",
       "    <tr>\n",
       "      <th>3</th>\n",
       "      <td>0</td>\n",
       "      <td>0.0</td>\n",
       "      <td>0</td>\n",
       "      <td>0.0</td>\n",
       "      <td>2</td>\n",
       "      <td>2.666667</td>\n",
       "      <td>0.05</td>\n",
       "      <td>0.14</td>\n",
       "      <td>0.0</td>\n",
       "      <td>0.0</td>\n",
       "      <td>Feb</td>\n",
       "      <td>3</td>\n",
       "      <td>2</td>\n",
       "      <td>2</td>\n",
       "      <td>4</td>\n",
       "      <td>Returning_Visitor</td>\n",
       "      <td>False</td>\n",
       "      <td>False</td>\n",
       "    </tr>\n",
       "    <tr>\n",
       "      <th>4</th>\n",
       "      <td>0</td>\n",
       "      <td>0.0</td>\n",
       "      <td>0</td>\n",
       "      <td>0.0</td>\n",
       "      <td>10</td>\n",
       "      <td>627.500000</td>\n",
       "      <td>0.02</td>\n",
       "      <td>0.05</td>\n",
       "      <td>0.0</td>\n",
       "      <td>0.0</td>\n",
       "      <td>Feb</td>\n",
       "      <td>3</td>\n",
       "      <td>3</td>\n",
       "      <td>1</td>\n",
       "      <td>4</td>\n",
       "      <td>Returning_Visitor</td>\n",
       "      <td>True</td>\n",
       "      <td>False</td>\n",
       "    </tr>\n",
       "  </tbody>\n",
       "</table>\n",
       "</div>"
      ],
      "text/plain": [
       "   Administrative  Administrative_Duration  Informational  \\\n",
       "0               0                      0.0              0   \n",
       "1               0                      0.0              0   \n",
       "2               0                      0.0              0   \n",
       "3               0                      0.0              0   \n",
       "4               0                      0.0              0   \n",
       "\n",
       "   Informational_Duration  ProductRelated  ProductRelated_Duration  \\\n",
       "0                     0.0               1                 0.000000   \n",
       "1                     0.0               2                64.000000   \n",
       "2                     0.0               1                 0.000000   \n",
       "3                     0.0               2                 2.666667   \n",
       "4                     0.0              10               627.500000   \n",
       "\n",
       "   BounceRates  ExitRates  PageValues  SpecialDay Month  OperatingSystems  \\\n",
       "0         0.20       0.20         0.0         0.0   Feb                 1   \n",
       "1         0.00       0.10         0.0         0.0   Feb                 2   \n",
       "2         0.20       0.20         0.0         0.0   Feb                 4   \n",
       "3         0.05       0.14         0.0         0.0   Feb                 3   \n",
       "4         0.02       0.05         0.0         0.0   Feb                 3   \n",
       "\n",
       "   Browser  Region  TrafficType        VisitorType  Weekend  Revenue  \n",
       "0        1       1            1  Returning_Visitor    False    False  \n",
       "1        2       1            2  Returning_Visitor    False    False  \n",
       "2        1       9            3  Returning_Visitor    False    False  \n",
       "3        2       2            4  Returning_Visitor    False    False  \n",
       "4        3       1            4  Returning_Visitor     True    False  "
      ]
     },
     "execution_count": 9,
     "metadata": {},
     "output_type": "execute_result"
    }
   ],
   "source": [
    "# 4- Una vez creado el dataframe, visualiza algunas filas del mismo para asegurarte que los datos se cargaron correctamente.\n",
    "df.head()"
   ]
  },
  {
   "cell_type": "code",
   "execution_count": 10,
   "id": "ed5ab3d6-e732-4af0-b0c3-da521bf63840",
   "metadata": {},
   "outputs": [
    {
     "name": "stdout",
     "output_type": "stream",
     "text": [
      "<class 'pandas.core.frame.DataFrame'>\n",
      "RangeIndex: 12330 entries, 0 to 12329\n",
      "Data columns (total 18 columns):\n",
      " #   Column                   Non-Null Count  Dtype  \n",
      "---  ------                   --------------  -----  \n",
      " 0   Administrative           12330 non-null  int64  \n",
      " 1   Administrative_Duration  12330 non-null  float64\n",
      " 2   Informational            12330 non-null  int64  \n",
      " 3   Informational_Duration   12330 non-null  float64\n",
      " 4   ProductRelated           12330 non-null  int64  \n",
      " 5   ProductRelated_Duration  12330 non-null  float64\n",
      " 6   BounceRates              12330 non-null  float64\n",
      " 7   ExitRates                12330 non-null  float64\n",
      " 8   PageValues               12330 non-null  float64\n",
      " 9   SpecialDay               12330 non-null  float64\n",
      " 10  Month                    12330 non-null  object \n",
      " 11  OperatingSystems         12330 non-null  int64  \n",
      " 12  Browser                  12330 non-null  int64  \n",
      " 13  Region                   12330 non-null  int64  \n",
      " 14  TrafficType              12330 non-null  int64  \n",
      " 15  VisitorType              12330 non-null  object \n",
      " 16  Weekend                  12330 non-null  bool   \n",
      " 17  Revenue                  12330 non-null  bool   \n",
      "dtypes: bool(2), float64(7), int64(7), object(2)\n",
      "memory usage: 1.5+ MB\n"
     ]
    }
   ],
   "source": [
    "# 5 - Muestra la información del conjunto de datos y explora, cantidad de registros, dipos de variables, cantidad de variables etc.\n",
    "df.info()"
   ]
  },
  {
   "cell_type": "code",
   "execution_count": 11,
   "id": "72583591-08b3-488b-8791-ced2659a1c0b",
   "metadata": {},
   "outputs": [
    {
     "name": "stderr",
     "output_type": "stream",
     "text": [
      "C:\\Users\\felix\\AppData\\Local\\Temp\\ipykernel_9288\\1523781028.py:2: FutureWarning: pandas.value_counts is deprecated and will be removed in a future version. Use pd.Series(obj).value_counts() instead.\n",
      "  frecuencias_administrative = pd.value_counts(df['Administrative_Duration'])\n",
      "C:\\Users\\felix\\AppData\\Local\\Temp\\ipykernel_9288\\1523781028.py:4: FutureWarning: pandas.value_counts is deprecated and will be removed in a future version. Use pd.Series(obj).value_counts() instead.\n",
      "  frecuencias_informational = pd.value_counts(df['Informational_Duration'])\n",
      "C:\\Users\\felix\\AppData\\Local\\Temp\\ipykernel_9288\\1523781028.py:6: FutureWarning: pandas.value_counts is deprecated and will be removed in a future version. Use pd.Series(obj).value_counts() instead.\n",
      "  frecuencias_productrelated = pd.value_counts(df['ProductRelated_Duration'])\n"
     ]
    }
   ],
   "source": [
    "# 6 - Muestra las estadisticas descriptivas para cada una de las duraciones (Columnas _Duration) y analiza cada una de ellas.\n",
    "frecuencias_administrative = pd.value_counts(df['Administrative_Duration'])\n",
    "\n",
    "frecuencias_informational = pd.value_counts(df['Informational_Duration'])\n",
    "\n",
    "frecuencias_productrelated = pd.value_counts(df['ProductRelated_Duration'])"
   ]
  },
  {
   "cell_type": "code",
   "execution_count": 12,
   "id": "d97ef66d-6558-4319-a9d7-eac00dbdefb4",
   "metadata": {},
   "outputs": [
    {
     "data": {
      "text/plain": [
       "Administrative_Duration\n",
       "0.000000       5903\n",
       "4.000000         56\n",
       "5.000000         53\n",
       "7.000000         45\n",
       "11.000000        42\n",
       "               ... \n",
       "1226.000000       1\n",
       "293.778205        1\n",
       "195.316667        1\n",
       "441.833333        1\n",
       "321.266667        1\n",
       "Name: count, Length: 3335, dtype: int64"
      ]
     },
     "execution_count": 12,
     "metadata": {},
     "output_type": "execute_result"
    }
   ],
   "source": [
    "frecuencias_administrative"
   ]
  },
  {
   "cell_type": "code",
   "execution_count": 13,
   "id": "b1ce9550-f8a5-4555-a551-2fed26f72525",
   "metadata": {},
   "outputs": [
    {
     "data": {
      "text/plain": [
       "Informational_Duration\n",
       "0.000       9925\n",
       "9.000         33\n",
       "10.000        26\n",
       "6.000         26\n",
       "7.000         26\n",
       "            ... \n",
       "102.500        1\n",
       "1060.750       1\n",
       "290.225        1\n",
       "407.500        1\n",
       "1083.000       1\n",
       "Name: count, Length: 1258, dtype: int64"
      ]
     },
     "execution_count": 13,
     "metadata": {},
     "output_type": "execute_result"
    }
   ],
   "source": [
    "frecuencias_informational"
   ]
  },
  {
   "cell_type": "code",
   "execution_count": 14,
   "id": "f27e5e12-5236-481e-8e37-76b2193c4b71",
   "metadata": {},
   "outputs": [
    {
     "data": {
      "text/plain": [
       "ProductRelated_Duration\n",
       "0.000000        755\n",
       "17.000000        21\n",
       "11.000000        17\n",
       "8.000000         17\n",
       "15.000000        16\n",
       "               ... \n",
       "4018.450000       1\n",
       "262.900000        1\n",
       "4627.489571       1\n",
       "11431.001240      1\n",
       "2773.500000       1\n",
       "Name: count, Length: 9551, dtype: int64"
      ]
     },
     "execution_count": 14,
     "metadata": {},
     "output_type": "execute_result"
    }
   ],
   "source": [
    "frecuencias_productrelated"
   ]
  },
  {
   "cell_type": "code",
   "execution_count": 15,
   "id": "97480990-027c-4251-8a21-d2be9e15fec7",
   "metadata": {},
   "outputs": [],
   "source": [
    "#Frecuencia absoluta con formato\n",
    "frecuencias_administrative_df = pd.DataFrame(frecuencias_administrative)\n",
    "frecuencias_administrative_df.columns = ['Frecuencia absoluta']\n",
    "\n",
    "frecuencias_informational_df = pd.DataFrame(frecuencias_informational)\n",
    "frecuencias_informational_df.columns = ['Frecuencia absoluta']\n",
    "\n",
    "frecuencias_productrelated_df = pd.DataFrame(frecuencias_productrelated)\n",
    "frecuencias_productrelated_df.columns = ['Frecuencia absoluta']"
   ]
  },
  {
   "cell_type": "code",
   "execution_count": 16,
   "id": "3248b81e-8efa-45a5-984d-7273ffbbe966",
   "metadata": {},
   "outputs": [
    {
     "data": {
      "text/html": [
       "<div>\n",
       "<style scoped>\n",
       "    .dataframe tbody tr th:only-of-type {\n",
       "        vertical-align: middle;\n",
       "    }\n",
       "\n",
       "    .dataframe tbody tr th {\n",
       "        vertical-align: top;\n",
       "    }\n",
       "\n",
       "    .dataframe thead th {\n",
       "        text-align: right;\n",
       "    }\n",
       "</style>\n",
       "<table border=\"1\" class=\"dataframe\">\n",
       "  <thead>\n",
       "    <tr style=\"text-align: right;\">\n",
       "      <th></th>\n",
       "      <th>Frecuencia absoluta</th>\n",
       "    </tr>\n",
       "    <tr>\n",
       "      <th>Administrative_Duration</th>\n",
       "      <th></th>\n",
       "    </tr>\n",
       "  </thead>\n",
       "  <tbody>\n",
       "    <tr>\n",
       "      <th>0.000000</th>\n",
       "      <td>5903</td>\n",
       "    </tr>\n",
       "    <tr>\n",
       "      <th>4.000000</th>\n",
       "      <td>56</td>\n",
       "    </tr>\n",
       "    <tr>\n",
       "      <th>5.000000</th>\n",
       "      <td>53</td>\n",
       "    </tr>\n",
       "    <tr>\n",
       "      <th>7.000000</th>\n",
       "      <td>45</td>\n",
       "    </tr>\n",
       "    <tr>\n",
       "      <th>11.000000</th>\n",
       "      <td>42</td>\n",
       "    </tr>\n",
       "    <tr>\n",
       "      <th>...</th>\n",
       "      <td>...</td>\n",
       "    </tr>\n",
       "    <tr>\n",
       "      <th>1226.000000</th>\n",
       "      <td>1</td>\n",
       "    </tr>\n",
       "    <tr>\n",
       "      <th>293.778205</th>\n",
       "      <td>1</td>\n",
       "    </tr>\n",
       "    <tr>\n",
       "      <th>195.316667</th>\n",
       "      <td>1</td>\n",
       "    </tr>\n",
       "    <tr>\n",
       "      <th>441.833333</th>\n",
       "      <td>1</td>\n",
       "    </tr>\n",
       "    <tr>\n",
       "      <th>321.266667</th>\n",
       "      <td>1</td>\n",
       "    </tr>\n",
       "  </tbody>\n",
       "</table>\n",
       "<p>3335 rows × 1 columns</p>\n",
       "</div>"
      ],
      "text/plain": [
       "                         Frecuencia absoluta\n",
       "Administrative_Duration                     \n",
       "0.000000                                5903\n",
       "4.000000                                  56\n",
       "5.000000                                  53\n",
       "7.000000                                  45\n",
       "11.000000                                 42\n",
       "...                                      ...\n",
       "1226.000000                                1\n",
       "293.778205                                 1\n",
       "195.316667                                 1\n",
       "441.833333                                 1\n",
       "321.266667                                 1\n",
       "\n",
       "[3335 rows x 1 columns]"
      ]
     },
     "execution_count": 16,
     "metadata": {},
     "output_type": "execute_result"
    }
   ],
   "source": [
    "frecuencias_administrative_df"
   ]
  },
  {
   "cell_type": "code",
   "execution_count": 17,
   "id": "9322c66f-aec5-49d2-b54d-5f80716ca027",
   "metadata": {},
   "outputs": [
    {
     "data": {
      "text/html": [
       "<div>\n",
       "<style scoped>\n",
       "    .dataframe tbody tr th:only-of-type {\n",
       "        vertical-align: middle;\n",
       "    }\n",
       "\n",
       "    .dataframe tbody tr th {\n",
       "        vertical-align: top;\n",
       "    }\n",
       "\n",
       "    .dataframe thead th {\n",
       "        text-align: right;\n",
       "    }\n",
       "</style>\n",
       "<table border=\"1\" class=\"dataframe\">\n",
       "  <thead>\n",
       "    <tr style=\"text-align: right;\">\n",
       "      <th></th>\n",
       "      <th>Frecuencia absoluta</th>\n",
       "    </tr>\n",
       "    <tr>\n",
       "      <th>Informational_Duration</th>\n",
       "      <th></th>\n",
       "    </tr>\n",
       "  </thead>\n",
       "  <tbody>\n",
       "    <tr>\n",
       "      <th>0.000</th>\n",
       "      <td>9925</td>\n",
       "    </tr>\n",
       "    <tr>\n",
       "      <th>9.000</th>\n",
       "      <td>33</td>\n",
       "    </tr>\n",
       "    <tr>\n",
       "      <th>10.000</th>\n",
       "      <td>26</td>\n",
       "    </tr>\n",
       "    <tr>\n",
       "      <th>6.000</th>\n",
       "      <td>26</td>\n",
       "    </tr>\n",
       "    <tr>\n",
       "      <th>7.000</th>\n",
       "      <td>26</td>\n",
       "    </tr>\n",
       "    <tr>\n",
       "      <th>...</th>\n",
       "      <td>...</td>\n",
       "    </tr>\n",
       "    <tr>\n",
       "      <th>102.500</th>\n",
       "      <td>1</td>\n",
       "    </tr>\n",
       "    <tr>\n",
       "      <th>1060.750</th>\n",
       "      <td>1</td>\n",
       "    </tr>\n",
       "    <tr>\n",
       "      <th>290.225</th>\n",
       "      <td>1</td>\n",
       "    </tr>\n",
       "    <tr>\n",
       "      <th>407.500</th>\n",
       "      <td>1</td>\n",
       "    </tr>\n",
       "    <tr>\n",
       "      <th>1083.000</th>\n",
       "      <td>1</td>\n",
       "    </tr>\n",
       "  </tbody>\n",
       "</table>\n",
       "<p>1258 rows × 1 columns</p>\n",
       "</div>"
      ],
      "text/plain": [
       "                        Frecuencia absoluta\n",
       "Informational_Duration                     \n",
       "0.000                                  9925\n",
       "9.000                                    33\n",
       "10.000                                   26\n",
       "6.000                                    26\n",
       "7.000                                    26\n",
       "...                                     ...\n",
       "102.500                                   1\n",
       "1060.750                                  1\n",
       "290.225                                   1\n",
       "407.500                                   1\n",
       "1083.000                                  1\n",
       "\n",
       "[1258 rows x 1 columns]"
      ]
     },
     "execution_count": 17,
     "metadata": {},
     "output_type": "execute_result"
    }
   ],
   "source": [
    "frecuencias_informational_df"
   ]
  },
  {
   "cell_type": "code",
   "execution_count": 18,
   "id": "eabec26d-96db-4cc5-a840-f195b875440c",
   "metadata": {},
   "outputs": [
    {
     "data": {
      "text/html": [
       "<div>\n",
       "<style scoped>\n",
       "    .dataframe tbody tr th:only-of-type {\n",
       "        vertical-align: middle;\n",
       "    }\n",
       "\n",
       "    .dataframe tbody tr th {\n",
       "        vertical-align: top;\n",
       "    }\n",
       "\n",
       "    .dataframe thead th {\n",
       "        text-align: right;\n",
       "    }\n",
       "</style>\n",
       "<table border=\"1\" class=\"dataframe\">\n",
       "  <thead>\n",
       "    <tr style=\"text-align: right;\">\n",
       "      <th></th>\n",
       "      <th>Frecuencia absoluta</th>\n",
       "    </tr>\n",
       "    <tr>\n",
       "      <th>ProductRelated_Duration</th>\n",
       "      <th></th>\n",
       "    </tr>\n",
       "  </thead>\n",
       "  <tbody>\n",
       "    <tr>\n",
       "      <th>0.000000</th>\n",
       "      <td>755</td>\n",
       "    </tr>\n",
       "    <tr>\n",
       "      <th>17.000000</th>\n",
       "      <td>21</td>\n",
       "    </tr>\n",
       "    <tr>\n",
       "      <th>11.000000</th>\n",
       "      <td>17</td>\n",
       "    </tr>\n",
       "    <tr>\n",
       "      <th>8.000000</th>\n",
       "      <td>17</td>\n",
       "    </tr>\n",
       "    <tr>\n",
       "      <th>15.000000</th>\n",
       "      <td>16</td>\n",
       "    </tr>\n",
       "    <tr>\n",
       "      <th>...</th>\n",
       "      <td>...</td>\n",
       "    </tr>\n",
       "    <tr>\n",
       "      <th>4018.450000</th>\n",
       "      <td>1</td>\n",
       "    </tr>\n",
       "    <tr>\n",
       "      <th>262.900000</th>\n",
       "      <td>1</td>\n",
       "    </tr>\n",
       "    <tr>\n",
       "      <th>4627.489571</th>\n",
       "      <td>1</td>\n",
       "    </tr>\n",
       "    <tr>\n",
       "      <th>11431.001240</th>\n",
       "      <td>1</td>\n",
       "    </tr>\n",
       "    <tr>\n",
       "      <th>2773.500000</th>\n",
       "      <td>1</td>\n",
       "    </tr>\n",
       "  </tbody>\n",
       "</table>\n",
       "<p>9551 rows × 1 columns</p>\n",
       "</div>"
      ],
      "text/plain": [
       "                         Frecuencia absoluta\n",
       "ProductRelated_Duration                     \n",
       "0.000000                                 755\n",
       "17.000000                                 21\n",
       "11.000000                                 17\n",
       "8.000000                                  17\n",
       "15.000000                                 16\n",
       "...                                      ...\n",
       "4018.450000                                1\n",
       "262.900000                                 1\n",
       "4627.489571                                1\n",
       "11431.001240                               1\n",
       "2773.500000                                1\n",
       "\n",
       "[9551 rows x 1 columns]"
      ]
     },
     "execution_count": 18,
     "metadata": {},
     "output_type": "execute_result"
    }
   ],
   "source": [
    "frecuencias_productrelated_df"
   ]
  },
  {
   "cell_type": "code",
   "execution_count": null,
   "id": "6cb0af94-767d-4103-aa29-3ce390f49daf",
   "metadata": {},
   "outputs": [],
   "source": []
  },
  {
   "cell_type": "code",
   "execution_count": null,
   "id": "0026026c-945c-48a4-a3e9-1e851c575e44",
   "metadata": {},
   "outputs": [],
   "source": []
  },
  {
   "cell_type": "code",
   "execution_count": 19,
   "id": "c91a3ea2-9324-4794-8ce1-d5f1b6ffa4ee",
   "metadata": {},
   "outputs": [],
   "source": [
    "#Frecuencia relativa\n",
    "frecuencias_administrative_df['Frecuencia relativa'] = frecuencias_administrative_df['Frecuencia absoluta']/frecuencias_administrative.sum()*100\n",
    "\n",
    "frecuencias_informational_df['Frecuencia relativa'] = frecuencias_informational_df['Frecuencia absoluta']/frecuencias_informational.sum()*100\n",
    "\n",
    "frecuencias_productrelated_df['Frecuencia relativa'] = frecuencias_productrelated_df['Frecuencia absoluta']/frecuencias_productrelated.sum()*100"
   ]
  },
  {
   "cell_type": "code",
   "execution_count": 20,
   "id": "429e62d3-6efe-4d99-975f-1587a5cd2202",
   "metadata": {},
   "outputs": [
    {
     "data": {
      "text/html": [
       "<div>\n",
       "<style scoped>\n",
       "    .dataframe tbody tr th:only-of-type {\n",
       "        vertical-align: middle;\n",
       "    }\n",
       "\n",
       "    .dataframe tbody tr th {\n",
       "        vertical-align: top;\n",
       "    }\n",
       "\n",
       "    .dataframe thead th {\n",
       "        text-align: right;\n",
       "    }\n",
       "</style>\n",
       "<table border=\"1\" class=\"dataframe\">\n",
       "  <thead>\n",
       "    <tr style=\"text-align: right;\">\n",
       "      <th></th>\n",
       "      <th>Frecuencia absoluta</th>\n",
       "      <th>Frecuencia relativa</th>\n",
       "    </tr>\n",
       "    <tr>\n",
       "      <th>Administrative_Duration</th>\n",
       "      <th></th>\n",
       "      <th></th>\n",
       "    </tr>\n",
       "  </thead>\n",
       "  <tbody>\n",
       "    <tr>\n",
       "      <th>0.000000</th>\n",
       "      <td>5903</td>\n",
       "      <td>47.875101</td>\n",
       "    </tr>\n",
       "    <tr>\n",
       "      <th>4.000000</th>\n",
       "      <td>56</td>\n",
       "      <td>0.454177</td>\n",
       "    </tr>\n",
       "    <tr>\n",
       "      <th>5.000000</th>\n",
       "      <td>53</td>\n",
       "      <td>0.429846</td>\n",
       "    </tr>\n",
       "    <tr>\n",
       "      <th>7.000000</th>\n",
       "      <td>45</td>\n",
       "      <td>0.364964</td>\n",
       "    </tr>\n",
       "    <tr>\n",
       "      <th>11.000000</th>\n",
       "      <td>42</td>\n",
       "      <td>0.340633</td>\n",
       "    </tr>\n",
       "    <tr>\n",
       "      <th>...</th>\n",
       "      <td>...</td>\n",
       "      <td>...</td>\n",
       "    </tr>\n",
       "    <tr>\n",
       "      <th>1226.000000</th>\n",
       "      <td>1</td>\n",
       "      <td>0.008110</td>\n",
       "    </tr>\n",
       "    <tr>\n",
       "      <th>293.778205</th>\n",
       "      <td>1</td>\n",
       "      <td>0.008110</td>\n",
       "    </tr>\n",
       "    <tr>\n",
       "      <th>195.316667</th>\n",
       "      <td>1</td>\n",
       "      <td>0.008110</td>\n",
       "    </tr>\n",
       "    <tr>\n",
       "      <th>441.833333</th>\n",
       "      <td>1</td>\n",
       "      <td>0.008110</td>\n",
       "    </tr>\n",
       "    <tr>\n",
       "      <th>321.266667</th>\n",
       "      <td>1</td>\n",
       "      <td>0.008110</td>\n",
       "    </tr>\n",
       "  </tbody>\n",
       "</table>\n",
       "<p>3335 rows × 2 columns</p>\n",
       "</div>"
      ],
      "text/plain": [
       "                         Frecuencia absoluta  Frecuencia relativa\n",
       "Administrative_Duration                                          \n",
       "0.000000                                5903            47.875101\n",
       "4.000000                                  56             0.454177\n",
       "5.000000                                  53             0.429846\n",
       "7.000000                                  45             0.364964\n",
       "11.000000                                 42             0.340633\n",
       "...                                      ...                  ...\n",
       "1226.000000                                1             0.008110\n",
       "293.778205                                 1             0.008110\n",
       "195.316667                                 1             0.008110\n",
       "441.833333                                 1             0.008110\n",
       "321.266667                                 1             0.008110\n",
       "\n",
       "[3335 rows x 2 columns]"
      ]
     },
     "execution_count": 20,
     "metadata": {},
     "output_type": "execute_result"
    }
   ],
   "source": [
    "frecuencias_administrative_df"
   ]
  },
  {
   "cell_type": "code",
   "execution_count": 21,
   "id": "eda3bf1a-fe40-4fa3-a920-b7bf158d6f81",
   "metadata": {},
   "outputs": [
    {
     "data": {
      "text/html": [
       "<div>\n",
       "<style scoped>\n",
       "    .dataframe tbody tr th:only-of-type {\n",
       "        vertical-align: middle;\n",
       "    }\n",
       "\n",
       "    .dataframe tbody tr th {\n",
       "        vertical-align: top;\n",
       "    }\n",
       "\n",
       "    .dataframe thead th {\n",
       "        text-align: right;\n",
       "    }\n",
       "</style>\n",
       "<table border=\"1\" class=\"dataframe\">\n",
       "  <thead>\n",
       "    <tr style=\"text-align: right;\">\n",
       "      <th></th>\n",
       "      <th>Frecuencia absoluta</th>\n",
       "      <th>Frecuencia relativa</th>\n",
       "    </tr>\n",
       "    <tr>\n",
       "      <th>Informational_Duration</th>\n",
       "      <th></th>\n",
       "      <th></th>\n",
       "    </tr>\n",
       "  </thead>\n",
       "  <tbody>\n",
       "    <tr>\n",
       "      <th>0.000</th>\n",
       "      <td>9925</td>\n",
       "      <td>80.494728</td>\n",
       "    </tr>\n",
       "    <tr>\n",
       "      <th>9.000</th>\n",
       "      <td>33</td>\n",
       "      <td>0.267640</td>\n",
       "    </tr>\n",
       "    <tr>\n",
       "      <th>10.000</th>\n",
       "      <td>26</td>\n",
       "      <td>0.210868</td>\n",
       "    </tr>\n",
       "    <tr>\n",
       "      <th>6.000</th>\n",
       "      <td>26</td>\n",
       "      <td>0.210868</td>\n",
       "    </tr>\n",
       "    <tr>\n",
       "      <th>7.000</th>\n",
       "      <td>26</td>\n",
       "      <td>0.210868</td>\n",
       "    </tr>\n",
       "    <tr>\n",
       "      <th>...</th>\n",
       "      <td>...</td>\n",
       "      <td>...</td>\n",
       "    </tr>\n",
       "    <tr>\n",
       "      <th>102.500</th>\n",
       "      <td>1</td>\n",
       "      <td>0.008110</td>\n",
       "    </tr>\n",
       "    <tr>\n",
       "      <th>1060.750</th>\n",
       "      <td>1</td>\n",
       "      <td>0.008110</td>\n",
       "    </tr>\n",
       "    <tr>\n",
       "      <th>290.225</th>\n",
       "      <td>1</td>\n",
       "      <td>0.008110</td>\n",
       "    </tr>\n",
       "    <tr>\n",
       "      <th>407.500</th>\n",
       "      <td>1</td>\n",
       "      <td>0.008110</td>\n",
       "    </tr>\n",
       "    <tr>\n",
       "      <th>1083.000</th>\n",
       "      <td>1</td>\n",
       "      <td>0.008110</td>\n",
       "    </tr>\n",
       "  </tbody>\n",
       "</table>\n",
       "<p>1258 rows × 2 columns</p>\n",
       "</div>"
      ],
      "text/plain": [
       "                        Frecuencia absoluta  Frecuencia relativa\n",
       "Informational_Duration                                          \n",
       "0.000                                  9925            80.494728\n",
       "9.000                                    33             0.267640\n",
       "10.000                                   26             0.210868\n",
       "6.000                                    26             0.210868\n",
       "7.000                                    26             0.210868\n",
       "...                                     ...                  ...\n",
       "102.500                                   1             0.008110\n",
       "1060.750                                  1             0.008110\n",
       "290.225                                   1             0.008110\n",
       "407.500                                   1             0.008110\n",
       "1083.000                                  1             0.008110\n",
       "\n",
       "[1258 rows x 2 columns]"
      ]
     },
     "execution_count": 21,
     "metadata": {},
     "output_type": "execute_result"
    }
   ],
   "source": [
    "frecuencias_informational_df"
   ]
  },
  {
   "cell_type": "code",
   "execution_count": 22,
   "id": "9cbdc48a-1f65-4e4d-8f8d-158e9aed4735",
   "metadata": {},
   "outputs": [
    {
     "data": {
      "text/html": [
       "<div>\n",
       "<style scoped>\n",
       "    .dataframe tbody tr th:only-of-type {\n",
       "        vertical-align: middle;\n",
       "    }\n",
       "\n",
       "    .dataframe tbody tr th {\n",
       "        vertical-align: top;\n",
       "    }\n",
       "\n",
       "    .dataframe thead th {\n",
       "        text-align: right;\n",
       "    }\n",
       "</style>\n",
       "<table border=\"1\" class=\"dataframe\">\n",
       "  <thead>\n",
       "    <tr style=\"text-align: right;\">\n",
       "      <th></th>\n",
       "      <th>Frecuencia absoluta</th>\n",
       "      <th>Frecuencia relativa</th>\n",
       "    </tr>\n",
       "    <tr>\n",
       "      <th>ProductRelated_Duration</th>\n",
       "      <th></th>\n",
       "      <th></th>\n",
       "    </tr>\n",
       "  </thead>\n",
       "  <tbody>\n",
       "    <tr>\n",
       "      <th>0.000000</th>\n",
       "      <td>755</td>\n",
       "      <td>6.123277</td>\n",
       "    </tr>\n",
       "    <tr>\n",
       "      <th>17.000000</th>\n",
       "      <td>21</td>\n",
       "      <td>0.170316</td>\n",
       "    </tr>\n",
       "    <tr>\n",
       "      <th>11.000000</th>\n",
       "      <td>17</td>\n",
       "      <td>0.137875</td>\n",
       "    </tr>\n",
       "    <tr>\n",
       "      <th>8.000000</th>\n",
       "      <td>17</td>\n",
       "      <td>0.137875</td>\n",
       "    </tr>\n",
       "    <tr>\n",
       "      <th>15.000000</th>\n",
       "      <td>16</td>\n",
       "      <td>0.129765</td>\n",
       "    </tr>\n",
       "    <tr>\n",
       "      <th>...</th>\n",
       "      <td>...</td>\n",
       "      <td>...</td>\n",
       "    </tr>\n",
       "    <tr>\n",
       "      <th>4018.450000</th>\n",
       "      <td>1</td>\n",
       "      <td>0.008110</td>\n",
       "    </tr>\n",
       "    <tr>\n",
       "      <th>262.900000</th>\n",
       "      <td>1</td>\n",
       "      <td>0.008110</td>\n",
       "    </tr>\n",
       "    <tr>\n",
       "      <th>4627.489571</th>\n",
       "      <td>1</td>\n",
       "      <td>0.008110</td>\n",
       "    </tr>\n",
       "    <tr>\n",
       "      <th>11431.001240</th>\n",
       "      <td>1</td>\n",
       "      <td>0.008110</td>\n",
       "    </tr>\n",
       "    <tr>\n",
       "      <th>2773.500000</th>\n",
       "      <td>1</td>\n",
       "      <td>0.008110</td>\n",
       "    </tr>\n",
       "  </tbody>\n",
       "</table>\n",
       "<p>9551 rows × 2 columns</p>\n",
       "</div>"
      ],
      "text/plain": [
       "                         Frecuencia absoluta  Frecuencia relativa\n",
       "ProductRelated_Duration                                          \n",
       "0.000000                                 755             6.123277\n",
       "17.000000                                 21             0.170316\n",
       "11.000000                                 17             0.137875\n",
       "8.000000                                  17             0.137875\n",
       "15.000000                                 16             0.129765\n",
       "...                                      ...                  ...\n",
       "4018.450000                                1             0.008110\n",
       "262.900000                                 1             0.008110\n",
       "4627.489571                                1             0.008110\n",
       "11431.001240                               1             0.008110\n",
       "2773.500000                                1             0.008110\n",
       "\n",
       "[9551 rows x 2 columns]"
      ]
     },
     "execution_count": 22,
     "metadata": {},
     "output_type": "execute_result"
    }
   ],
   "source": [
    "frecuencias_productrelated_df"
   ]
  },
  {
   "cell_type": "code",
   "execution_count": 23,
   "id": "ef5c81fa-bdcf-44b5-b670-9ffa6ab4c3dc",
   "metadata": {},
   "outputs": [
    {
     "data": {
      "text/html": [
       "<div>\n",
       "<style scoped>\n",
       "    .dataframe tbody tr th:only-of-type {\n",
       "        vertical-align: middle;\n",
       "    }\n",
       "\n",
       "    .dataframe tbody tr th {\n",
       "        vertical-align: top;\n",
       "    }\n",
       "\n",
       "    .dataframe thead th {\n",
       "        text-align: right;\n",
       "    }\n",
       "</style>\n",
       "<table border=\"1\" class=\"dataframe\">\n",
       "  <thead>\n",
       "    <tr style=\"text-align: right;\">\n",
       "      <th></th>\n",
       "      <th>Frecuencia absoluta</th>\n",
       "      <th>Frecuencia relativa</th>\n",
       "      <th>Fra</th>\n",
       "    </tr>\n",
       "    <tr>\n",
       "      <th>Administrative_Duration</th>\n",
       "      <th></th>\n",
       "      <th></th>\n",
       "      <th></th>\n",
       "    </tr>\n",
       "  </thead>\n",
       "  <tbody>\n",
       "    <tr>\n",
       "      <th>0.000000</th>\n",
       "      <td>5903</td>\n",
       "      <td>47.875101</td>\n",
       "      <td>47.875101</td>\n",
       "    </tr>\n",
       "    <tr>\n",
       "      <th>4.000000</th>\n",
       "      <td>56</td>\n",
       "      <td>0.454177</td>\n",
       "      <td>48.329278</td>\n",
       "    </tr>\n",
       "    <tr>\n",
       "      <th>5.000000</th>\n",
       "      <td>53</td>\n",
       "      <td>0.429846</td>\n",
       "      <td>48.759124</td>\n",
       "    </tr>\n",
       "    <tr>\n",
       "      <th>7.000000</th>\n",
       "      <td>45</td>\n",
       "      <td>0.364964</td>\n",
       "      <td>49.124088</td>\n",
       "    </tr>\n",
       "    <tr>\n",
       "      <th>11.000000</th>\n",
       "      <td>42</td>\n",
       "      <td>0.340633</td>\n",
       "      <td>49.464720</td>\n",
       "    </tr>\n",
       "    <tr>\n",
       "      <th>...</th>\n",
       "      <td>...</td>\n",
       "      <td>...</td>\n",
       "      <td>...</td>\n",
       "    </tr>\n",
       "    <tr>\n",
       "      <th>1226.000000</th>\n",
       "      <td>1</td>\n",
       "      <td>0.008110</td>\n",
       "      <td>99.967559</td>\n",
       "    </tr>\n",
       "    <tr>\n",
       "      <th>293.778205</th>\n",
       "      <td>1</td>\n",
       "      <td>0.008110</td>\n",
       "      <td>99.975669</td>\n",
       "    </tr>\n",
       "    <tr>\n",
       "      <th>195.316667</th>\n",
       "      <td>1</td>\n",
       "      <td>0.008110</td>\n",
       "      <td>99.983779</td>\n",
       "    </tr>\n",
       "    <tr>\n",
       "      <th>441.833333</th>\n",
       "      <td>1</td>\n",
       "      <td>0.008110</td>\n",
       "      <td>99.991890</td>\n",
       "    </tr>\n",
       "    <tr>\n",
       "      <th>321.266667</th>\n",
       "      <td>1</td>\n",
       "      <td>0.008110</td>\n",
       "      <td>100.000000</td>\n",
       "    </tr>\n",
       "  </tbody>\n",
       "</table>\n",
       "<p>3335 rows × 3 columns</p>\n",
       "</div>"
      ],
      "text/plain": [
       "                         Frecuencia absoluta  Frecuencia relativa         Fra\n",
       "Administrative_Duration                                                      \n",
       "0.000000                                5903            47.875101   47.875101\n",
       "4.000000                                  56             0.454177   48.329278\n",
       "5.000000                                  53             0.429846   48.759124\n",
       "7.000000                                  45             0.364964   49.124088\n",
       "11.000000                                 42             0.340633   49.464720\n",
       "...                                      ...                  ...         ...\n",
       "1226.000000                                1             0.008110   99.967559\n",
       "293.778205                                 1             0.008110   99.975669\n",
       "195.316667                                 1             0.008110   99.983779\n",
       "441.833333                                 1             0.008110   99.991890\n",
       "321.266667                                 1             0.008110  100.000000\n",
       "\n",
       "[3335 rows x 3 columns]"
      ]
     },
     "execution_count": 23,
     "metadata": {},
     "output_type": "execute_result"
    }
   ],
   "source": [
    "#Frecuencia relativa absoluta de la columna administrative_duration\n",
    "facum = []\n",
    "valoracum = 0;\n",
    "frecuencias_relativas_a = frecuencias_administrative_df['Frecuencia relativa']\n",
    "for i in frecuencias_relativas_a:\n",
    " valoracum += i\n",
    " facum.append(valoracum)\n",
    "frecuencias_administrative_df['Fra'] = facum\n",
    "frecuencias_administrative_df"
   ]
  },
  {
   "cell_type": "code",
   "execution_count": 24,
   "id": "0dd5be10-175a-41ae-b608-4d08693a62a4",
   "metadata": {},
   "outputs": [
    {
     "data": {
      "text/html": [
       "<div>\n",
       "<style scoped>\n",
       "    .dataframe tbody tr th:only-of-type {\n",
       "        vertical-align: middle;\n",
       "    }\n",
       "\n",
       "    .dataframe tbody tr th {\n",
       "        vertical-align: top;\n",
       "    }\n",
       "\n",
       "    .dataframe thead th {\n",
       "        text-align: right;\n",
       "    }\n",
       "</style>\n",
       "<table border=\"1\" class=\"dataframe\">\n",
       "  <thead>\n",
       "    <tr style=\"text-align: right;\">\n",
       "      <th></th>\n",
       "      <th>Frecuencia absoluta</th>\n",
       "      <th>Frecuencia relativa</th>\n",
       "      <th>Fra</th>\n",
       "    </tr>\n",
       "    <tr>\n",
       "      <th>Informational_Duration</th>\n",
       "      <th></th>\n",
       "      <th></th>\n",
       "      <th></th>\n",
       "    </tr>\n",
       "  </thead>\n",
       "  <tbody>\n",
       "    <tr>\n",
       "      <th>0.000</th>\n",
       "      <td>9925</td>\n",
       "      <td>80.494728</td>\n",
       "      <td>80.494728</td>\n",
       "    </tr>\n",
       "    <tr>\n",
       "      <th>9.000</th>\n",
       "      <td>33</td>\n",
       "      <td>0.267640</td>\n",
       "      <td>80.762368</td>\n",
       "    </tr>\n",
       "    <tr>\n",
       "      <th>10.000</th>\n",
       "      <td>26</td>\n",
       "      <td>0.210868</td>\n",
       "      <td>80.973236</td>\n",
       "    </tr>\n",
       "    <tr>\n",
       "      <th>6.000</th>\n",
       "      <td>26</td>\n",
       "      <td>0.210868</td>\n",
       "      <td>81.184104</td>\n",
       "    </tr>\n",
       "    <tr>\n",
       "      <th>7.000</th>\n",
       "      <td>26</td>\n",
       "      <td>0.210868</td>\n",
       "      <td>81.394972</td>\n",
       "    </tr>\n",
       "    <tr>\n",
       "      <th>...</th>\n",
       "      <td>...</td>\n",
       "      <td>...</td>\n",
       "      <td>...</td>\n",
       "    </tr>\n",
       "    <tr>\n",
       "      <th>102.500</th>\n",
       "      <td>1</td>\n",
       "      <td>0.008110</td>\n",
       "      <td>99.967559</td>\n",
       "    </tr>\n",
       "    <tr>\n",
       "      <th>1060.750</th>\n",
       "      <td>1</td>\n",
       "      <td>0.008110</td>\n",
       "      <td>99.975669</td>\n",
       "    </tr>\n",
       "    <tr>\n",
       "      <th>290.225</th>\n",
       "      <td>1</td>\n",
       "      <td>0.008110</td>\n",
       "      <td>99.983779</td>\n",
       "    </tr>\n",
       "    <tr>\n",
       "      <th>407.500</th>\n",
       "      <td>1</td>\n",
       "      <td>0.008110</td>\n",
       "      <td>99.991890</td>\n",
       "    </tr>\n",
       "    <tr>\n",
       "      <th>1083.000</th>\n",
       "      <td>1</td>\n",
       "      <td>0.008110</td>\n",
       "      <td>100.000000</td>\n",
       "    </tr>\n",
       "  </tbody>\n",
       "</table>\n",
       "<p>1258 rows × 3 columns</p>\n",
       "</div>"
      ],
      "text/plain": [
       "                        Frecuencia absoluta  Frecuencia relativa         Fra\n",
       "Informational_Duration                                                      \n",
       "0.000                                  9925            80.494728   80.494728\n",
       "9.000                                    33             0.267640   80.762368\n",
       "10.000                                   26             0.210868   80.973236\n",
       "6.000                                    26             0.210868   81.184104\n",
       "7.000                                    26             0.210868   81.394972\n",
       "...                                     ...                  ...         ...\n",
       "102.500                                   1             0.008110   99.967559\n",
       "1060.750                                  1             0.008110   99.975669\n",
       "290.225                                   1             0.008110   99.983779\n",
       "407.500                                   1             0.008110   99.991890\n",
       "1083.000                                  1             0.008110  100.000000\n",
       "\n",
       "[1258 rows x 3 columns]"
      ]
     },
     "execution_count": 24,
     "metadata": {},
     "output_type": "execute_result"
    }
   ],
   "source": [
    "#Frecuencia relativa absoluta de la columna informational_duration\n",
    "facum = []\n",
    "valoracum = 0;\n",
    "frecuencias_relativas_i = frecuencias_informational_df['Frecuencia relativa']\n",
    "for i in frecuencias_relativas_i:\n",
    " valoracum += i\n",
    " facum.append(valoracum)\n",
    "frecuencias_informational_df['Fra'] = facum\n",
    "frecuencias_informational_df"
   ]
  },
  {
   "cell_type": "code",
   "execution_count": 25,
   "id": "53a87c14-8550-4851-b472-98ea9b5737f5",
   "metadata": {},
   "outputs": [
    {
     "data": {
      "text/html": [
       "<div>\n",
       "<style scoped>\n",
       "    .dataframe tbody tr th:only-of-type {\n",
       "        vertical-align: middle;\n",
       "    }\n",
       "\n",
       "    .dataframe tbody tr th {\n",
       "        vertical-align: top;\n",
       "    }\n",
       "\n",
       "    .dataframe thead th {\n",
       "        text-align: right;\n",
       "    }\n",
       "</style>\n",
       "<table border=\"1\" class=\"dataframe\">\n",
       "  <thead>\n",
       "    <tr style=\"text-align: right;\">\n",
       "      <th></th>\n",
       "      <th>Frecuencia absoluta</th>\n",
       "      <th>Frecuencia relativa</th>\n",
       "      <th>Fra</th>\n",
       "    </tr>\n",
       "    <tr>\n",
       "      <th>ProductRelated_Duration</th>\n",
       "      <th></th>\n",
       "      <th></th>\n",
       "      <th></th>\n",
       "    </tr>\n",
       "  </thead>\n",
       "  <tbody>\n",
       "    <tr>\n",
       "      <th>0.000000</th>\n",
       "      <td>755</td>\n",
       "      <td>6.123277</td>\n",
       "      <td>6.123277</td>\n",
       "    </tr>\n",
       "    <tr>\n",
       "      <th>17.000000</th>\n",
       "      <td>21</td>\n",
       "      <td>0.170316</td>\n",
       "      <td>6.293593</td>\n",
       "    </tr>\n",
       "    <tr>\n",
       "      <th>11.000000</th>\n",
       "      <td>17</td>\n",
       "      <td>0.137875</td>\n",
       "      <td>6.431468</td>\n",
       "    </tr>\n",
       "    <tr>\n",
       "      <th>8.000000</th>\n",
       "      <td>17</td>\n",
       "      <td>0.137875</td>\n",
       "      <td>6.569343</td>\n",
       "    </tr>\n",
       "    <tr>\n",
       "      <th>15.000000</th>\n",
       "      <td>16</td>\n",
       "      <td>0.129765</td>\n",
       "      <td>6.699108</td>\n",
       "    </tr>\n",
       "    <tr>\n",
       "      <th>...</th>\n",
       "      <td>...</td>\n",
       "      <td>...</td>\n",
       "      <td>...</td>\n",
       "    </tr>\n",
       "    <tr>\n",
       "      <th>4018.450000</th>\n",
       "      <td>1</td>\n",
       "      <td>0.008110</td>\n",
       "      <td>99.967559</td>\n",
       "    </tr>\n",
       "    <tr>\n",
       "      <th>262.900000</th>\n",
       "      <td>1</td>\n",
       "      <td>0.008110</td>\n",
       "      <td>99.975669</td>\n",
       "    </tr>\n",
       "    <tr>\n",
       "      <th>4627.489571</th>\n",
       "      <td>1</td>\n",
       "      <td>0.008110</td>\n",
       "      <td>99.983779</td>\n",
       "    </tr>\n",
       "    <tr>\n",
       "      <th>11431.001240</th>\n",
       "      <td>1</td>\n",
       "      <td>0.008110</td>\n",
       "      <td>99.991890</td>\n",
       "    </tr>\n",
       "    <tr>\n",
       "      <th>2773.500000</th>\n",
       "      <td>1</td>\n",
       "      <td>0.008110</td>\n",
       "      <td>100.000000</td>\n",
       "    </tr>\n",
       "  </tbody>\n",
       "</table>\n",
       "<p>9551 rows × 3 columns</p>\n",
       "</div>"
      ],
      "text/plain": [
       "                         Frecuencia absoluta  Frecuencia relativa         Fra\n",
       "ProductRelated_Duration                                                      \n",
       "0.000000                                 755             6.123277    6.123277\n",
       "17.000000                                 21             0.170316    6.293593\n",
       "11.000000                                 17             0.137875    6.431468\n",
       "8.000000                                  17             0.137875    6.569343\n",
       "15.000000                                 16             0.129765    6.699108\n",
       "...                                      ...                  ...         ...\n",
       "4018.450000                                1             0.008110   99.967559\n",
       "262.900000                                 1             0.008110   99.975669\n",
       "4627.489571                                1             0.008110   99.983779\n",
       "11431.001240                               1             0.008110   99.991890\n",
       "2773.500000                                1             0.008110  100.000000\n",
       "\n",
       "[9551 rows x 3 columns]"
      ]
     },
     "execution_count": 25,
     "metadata": {},
     "output_type": "execute_result"
    }
   ],
   "source": [
    "#Frecuencia relativa absoluta de la columna productrelated_duration\n",
    "facum = []\n",
    "valoracum = 0;\n",
    "frecuencias_relativas_p = frecuencias_productrelated_df['Frecuencia relativa']\n",
    "for i in frecuencias_relativas_p:\n",
    " valoracum += i\n",
    " facum.append(valoracum)\n",
    "frecuencias_productrelated_df['Fra'] = facum\n",
    "frecuencias_productrelated_df"
   ]
  },
  {
   "cell_type": "code",
   "execution_count": 26,
   "id": "902ace35-fca4-4042-892f-15eafd0643c8",
   "metadata": {},
   "outputs": [
    {
     "ename": "SyntaxError",
     "evalue": "invalid syntax (3858749962.py, line 2)",
     "output_type": "error",
     "traceback": [
      "\u001b[1;36m  Cell \u001b[1;32mIn[26], line 2\u001b[1;36m\u001b[0m\n\u001b[1;33m    count = numero de registros\u001b[0m\n\u001b[1;37m                   ^\u001b[0m\n\u001b[1;31mSyntaxError\u001b[0m\u001b[1;31m:\u001b[0m invalid syntax\n"
     ]
    }
   ],
   "source": [
    "#Terminologia:\n",
    "count = numero de registros\n",
    "mean = media\n",
    "std = desviacion estandar\n",
    "min = minimo\n",
    "25% = primer cuartil\n",
    "50% = segundo cuartil/mediana\n",
    "75% = tercer cuartil\n",
    "max = maximo"
   ]
  },
  {
   "cell_type": "code",
   "execution_count": 29,
   "id": "b335accd-ebf2-45dd-8a7a-b7df86a1d7c1",
   "metadata": {},
   "outputs": [
    {
     "data": {
      "text/plain": [
       "count    12330.000000\n",
       "mean        80.818611\n",
       "std        176.779107\n",
       "min          0.000000\n",
       "25%          0.000000\n",
       "50%          7.500000\n",
       "75%         93.256250\n",
       "max       3398.750000\n",
       "Name: Administrative_Duration, dtype: float64"
      ]
     },
     "execution_count": 29,
     "metadata": {},
     "output_type": "execute_result"
    }
   ],
   "source": [
    "df['Administrative_Duration'].describe()"
   ]
  },
  {
   "cell_type": "code",
   "execution_count": 30,
   "id": "492915c0-13be-415a-ac60-c401d31d9f95",
   "metadata": {},
   "outputs": [
    {
     "data": {
      "text/plain": [
       "count    12330.000000\n",
       "mean        34.472398\n",
       "std        140.749294\n",
       "min          0.000000\n",
       "25%          0.000000\n",
       "50%          0.000000\n",
       "75%          0.000000\n",
       "max       2549.375000\n",
       "Name: Informational_Duration, dtype: float64"
      ]
     },
     "execution_count": 30,
     "metadata": {},
     "output_type": "execute_result"
    }
   ],
   "source": [
    "df['Informational_Duration'].describe()"
   ]
  },
  {
   "cell_type": "code",
   "execution_count": 31,
   "id": "912cddb0-a4f2-4c94-882f-a3761a592a27",
   "metadata": {},
   "outputs": [
    {
     "data": {
      "text/plain": [
       "count    12330.000000\n",
       "mean      1194.746220\n",
       "std       1913.669288\n",
       "min          0.000000\n",
       "25%        184.137500\n",
       "50%        598.936905\n",
       "75%       1464.157214\n",
       "max      63973.522230\n",
       "Name: ProductRelated_Duration, dtype: float64"
      ]
     },
     "execution_count": 31,
     "metadata": {},
     "output_type": "execute_result"
    }
   ],
   "source": [
    "df['ProductRelated_Duration'].describe()"
   ]
  },
  {
   "cell_type": "code",
   "execution_count": 39,
   "id": "8aa347dc-6096-41e4-8420-2f42391914d0",
   "metadata": {},
   "outputs": [
    {
     "data": {
      "text/plain": [
       "Text(0.5, 1.0, 'Tiempo total que el usuario pasó en páginas administrativas del sitio web')"
      ]
     },
     "execution_count": 39,
     "metadata": {},
     "output_type": "execute_result"
    },
    {
     "data": {
      "image/png": "[encoded data removed]",
      "text/plain": [
       "<Figure size 640x480 with 1 Axes>"
      ]
     },
     "metadata": {},
     "output_type": "display_data"
    }
   ],
   "source": [
    "# 7 - Representa en un grafico de barras e interpreta los promedios de las columnas (_Duration) \n",
    "df['Administrative_Duration'].plot(kind ='hist')\n",
    "plt.xlabel('Tiempo total')\n",
    "plt.ylabel('Cantidad de usuarios')\n",
    "plt.title('Tiempo total que el usuario pasó en páginas administrativas del sitio web')"
   ]
  },
  {
   "cell_type": "code",
   "execution_count": 38,
   "id": "7549a199-a8b2-477f-a871-fdd8d9e90680",
   "metadata": {},
   "outputs": [
    {
     "data": {
      "text/plain": [
       "Text(0.5, 1.0, 'Tiempo total que el usuario pasó en páginas informativas del sitio web')"
      ]
     },
     "execution_count": 38,
     "metadata": {},
     "output_type": "execute_result"
    },
    {
     "data": {
      "image/png": "[encoded data removed]",
      "text/plain": [
       "<Figure size 640x480 with 1 Axes>"
      ]
     },
     "metadata": {},
     "output_type": "display_data"
    }
   ],
   "source": [
    "df['Informational_Duration'].plot(kind ='hist')\n",
    "plt.xlabel('Tiempo total')\n",
    "plt.ylabel('Cantidad de usuarios')\n",
    "plt.title('Tiempo total que el usuario pasó en páginas informativas del sitio web')"
   ]
  },
  {
   "cell_type": "code",
   "execution_count": 40,
   "id": "808ce677-3d3f-4b10-8ed5-6b4e7f7248ec",
   "metadata": {},
   "outputs": [
    {
     "data": {
      "text/plain": [
       "Text(0.5, 1.0, 'Número de páginas del sitio web visitadas por el usuario con fines relacionados con productos')"
      ]
     },
     "execution_count": 40,
     "metadata": {},
     "output_type": "execute_result"
    },
    {
     "data": {
      "image/png": "[encoded data removed]",
      "text/plain": [
       "<Figure size 640x480 with 1 Axes>"
      ]
     },
     "metadata": {},
     "output_type": "display_data"
    }
   ],
   "source": [
    "df['ProductRelated_Duration'].plot(kind ='hist')\n",
    "plt.xlabel('Numero de paginas en total')\n",
    "plt.ylabel('Cantidad de usuarios')\n",
    "plt.title('Número de páginas del sitio web visitadas por el usuario con fines relacionados con productos')"
   ]
  },
  {
   "cell_type": "code",
   "execution_count": null,
   "id": "489ce679-74b7-4d2d-a701-4c903ec31d53",
   "metadata": {},
   "outputs": [],
   "source": []
  },
  {
   "cell_type": "code",
   "execution_count": null,
   "id": "e5a1e502-1e99-47c5-a768-b8b509bcb85c",
   "metadata": {},
   "outputs": [],
   "source": []
  },
  {
   "cell_type": "code",
   "execution_count": null,
   "id": "a22b8a11-39a1-4664-a1f6-5c822a5a2ddc",
   "metadata": {},
   "outputs": [],
   "source": []
  },
  {
   "cell_type": "code",
   "execution_count": null,
   "id": "b34d549d-5b58-4f74-a4f0-04238afc4a13",
   "metadata": {},
   "outputs": [],
   "source": []
  }
 ],
 "metadata": {
  "kernelspec": {
   "display_name": "Python 3 (ipykernel)",
   "language": "python",
   "name": "python3"
  },
  "language_info": {
   "codemirror_mode": {
    "name": "ipython",
    "version": 3
   },
   "file_extension": ".py",
   "mimetype": "text/x-python",
   "name": "python",
   "nbconvert_exporter": "python",
   "pygments_lexer": "ipython3",
   "version": "3.12.4"
  }
 },
 "nbformat": 4,
 "nbformat_minor": 5
}
